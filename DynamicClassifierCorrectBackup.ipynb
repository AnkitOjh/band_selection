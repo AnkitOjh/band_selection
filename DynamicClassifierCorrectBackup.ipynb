{
 "cells": [
  {
   "cell_type": "code",
   "execution_count": 1,
   "metadata": {},
   "outputs": [
    {
     "ename": "FileNotFoundError",
     "evalue": "[Errno 2] No such file or directory: 'Botswana_gt.mat'",
     "output_type": "error",
     "traceback": [
      "\u001b[1;31m---------------------------------------------------------------------------\u001b[0m",
      "\u001b[1;31mFileNotFoundError\u001b[0m                         Traceback (most recent call last)",
      "\u001b[1;32m~\\Anaconda3\\lib\\site-packages\\scipy\\io\\matlab\\mio.py\u001b[0m in \u001b[0;36m_open_file\u001b[1;34m(file_like, appendmat)\u001b[0m\n\u001b[0;32m     30\u001b[0m     \u001b[1;32mtry\u001b[0m\u001b[1;33m:\u001b[0m\u001b[1;33m\u001b[0m\u001b[1;33m\u001b[0m\u001b[0m\n\u001b[1;32m---> 31\u001b[1;33m         \u001b[1;32mreturn\u001b[0m \u001b[0mopen\u001b[0m\u001b[1;33m(\u001b[0m\u001b[0mfile_like\u001b[0m\u001b[1;33m,\u001b[0m \u001b[1;34m'rb'\u001b[0m\u001b[1;33m)\u001b[0m\u001b[1;33m,\u001b[0m \u001b[1;32mTrue\u001b[0m\u001b[1;33m\u001b[0m\u001b[1;33m\u001b[0m\u001b[0m\n\u001b[0m\u001b[0;32m     32\u001b[0m     \u001b[1;32mexcept\u001b[0m \u001b[0mIOError\u001b[0m\u001b[1;33m:\u001b[0m\u001b[1;33m\u001b[0m\u001b[1;33m\u001b[0m\u001b[0m\n",
      "\u001b[1;31mFileNotFoundError\u001b[0m: [Errno 2] No such file or directory: 'Botswana_gt.mat'",
      "\nDuring handling of the above exception, another exception occurred:\n",
      "\u001b[1;31mFileNotFoundError\u001b[0m                         Traceback (most recent call last)",
      "\u001b[1;32m<ipython-input-1-58d85d9acd58>\u001b[0m in \u001b[0;36m<module>\u001b[1;34m\u001b[0m\n\u001b[0;32m      8\u001b[0m \u001b[1;33m\u001b[0m\u001b[0m\n\u001b[0;32m      9\u001b[0m \u001b[0mdata\u001b[0m \u001b[1;33m=\u001b[0m \u001b[0msio\u001b[0m\u001b[1;33m.\u001b[0m\u001b[0mloadmat\u001b[0m\u001b[1;33m(\u001b[0m\u001b[1;34m'Botswana.mat'\u001b[0m\u001b[1;33m)\u001b[0m\u001b[1;33m[\u001b[0m\u001b[1;34m'Botswana'\u001b[0m\u001b[1;33m]\u001b[0m\u001b[1;33m\u001b[0m\u001b[1;33m\u001b[0m\u001b[0m\n\u001b[1;32m---> 10\u001b[1;33m \u001b[0mlabels\u001b[0m \u001b[1;33m=\u001b[0m \u001b[0msio\u001b[0m\u001b[1;33m.\u001b[0m\u001b[0mloadmat\u001b[0m\u001b[1;33m(\u001b[0m\u001b[1;34m'Botswana_gt.mat'\u001b[0m\u001b[1;33m)\u001b[0m\u001b[1;33m[\u001b[0m\u001b[1;34m'Botswana_gt'\u001b[0m\u001b[1;33m]\u001b[0m\u001b[1;33m\u001b[0m\u001b[1;33m\u001b[0m\u001b[0m\n\u001b[0m\u001b[0;32m     11\u001b[0m \u001b[0mprint\u001b[0m\u001b[1;33m(\u001b[0m\u001b[0mdata\u001b[0m\u001b[1;33m.\u001b[0m\u001b[0mshape\u001b[0m\u001b[1;33m)\u001b[0m \u001b[1;31m#145, 145, 200\u001b[0m\u001b[1;33m\u001b[0m\u001b[1;33m\u001b[0m\u001b[0m\n\u001b[0;32m     12\u001b[0m \u001b[1;31m#print(labels.shape) #145, 145\u001b[0m\u001b[1;33m\u001b[0m\u001b[1;33m\u001b[0m\u001b[1;33m\u001b[0m\u001b[0m\n",
      "\u001b[1;32m~\\Anaconda3\\lib\\site-packages\\scipy\\io\\matlab\\mio.py\u001b[0m in \u001b[0;36mloadmat\u001b[1;34m(file_name, mdict, appendmat, **kwargs)\u001b[0m\n\u001b[0;32m    205\u001b[0m     \"\"\"\n\u001b[0;32m    206\u001b[0m     \u001b[0mvariable_names\u001b[0m \u001b[1;33m=\u001b[0m \u001b[0mkwargs\u001b[0m\u001b[1;33m.\u001b[0m\u001b[0mpop\u001b[0m\u001b[1;33m(\u001b[0m\u001b[1;34m'variable_names'\u001b[0m\u001b[1;33m,\u001b[0m \u001b[1;32mNone\u001b[0m\u001b[1;33m)\u001b[0m\u001b[1;33m\u001b[0m\u001b[1;33m\u001b[0m\u001b[0m\n\u001b[1;32m--> 207\u001b[1;33m     \u001b[0mMR\u001b[0m\u001b[1;33m,\u001b[0m \u001b[0mfile_opened\u001b[0m \u001b[1;33m=\u001b[0m \u001b[0mmat_reader_factory\u001b[0m\u001b[1;33m(\u001b[0m\u001b[0mfile_name\u001b[0m\u001b[1;33m,\u001b[0m \u001b[0mappendmat\u001b[0m\u001b[1;33m,\u001b[0m \u001b[1;33m**\u001b[0m\u001b[0mkwargs\u001b[0m\u001b[1;33m)\u001b[0m\u001b[1;33m\u001b[0m\u001b[1;33m\u001b[0m\u001b[0m\n\u001b[0m\u001b[0;32m    208\u001b[0m     \u001b[0mmatfile_dict\u001b[0m \u001b[1;33m=\u001b[0m \u001b[0mMR\u001b[0m\u001b[1;33m.\u001b[0m\u001b[0mget_variables\u001b[0m\u001b[1;33m(\u001b[0m\u001b[0mvariable_names\u001b[0m\u001b[1;33m)\u001b[0m\u001b[1;33m\u001b[0m\u001b[1;33m\u001b[0m\u001b[0m\n\u001b[0;32m    209\u001b[0m     \u001b[1;32mif\u001b[0m \u001b[0mmdict\u001b[0m \u001b[1;32mis\u001b[0m \u001b[1;32mnot\u001b[0m \u001b[1;32mNone\u001b[0m\u001b[1;33m:\u001b[0m\u001b[1;33m\u001b[0m\u001b[1;33m\u001b[0m\u001b[0m\n",
      "\u001b[1;32m~\\Anaconda3\\lib\\site-packages\\scipy\\io\\matlab\\mio.py\u001b[0m in \u001b[0;36mmat_reader_factory\u001b[1;34m(file_name, appendmat, **kwargs)\u001b[0m\n\u001b[0;32m     60\u001b[0m \u001b[1;33m\u001b[0m\u001b[0m\n\u001b[0;32m     61\u001b[0m     \"\"\"\n\u001b[1;32m---> 62\u001b[1;33m     \u001b[0mbyte_stream\u001b[0m\u001b[1;33m,\u001b[0m \u001b[0mfile_opened\u001b[0m \u001b[1;33m=\u001b[0m \u001b[0m_open_file\u001b[0m\u001b[1;33m(\u001b[0m\u001b[0mfile_name\u001b[0m\u001b[1;33m,\u001b[0m \u001b[0mappendmat\u001b[0m\u001b[1;33m)\u001b[0m\u001b[1;33m\u001b[0m\u001b[1;33m\u001b[0m\u001b[0m\n\u001b[0m\u001b[0;32m     63\u001b[0m     \u001b[0mmjv\u001b[0m\u001b[1;33m,\u001b[0m \u001b[0mmnv\u001b[0m \u001b[1;33m=\u001b[0m \u001b[0mget_matfile_version\u001b[0m\u001b[1;33m(\u001b[0m\u001b[0mbyte_stream\u001b[0m\u001b[1;33m)\u001b[0m\u001b[1;33m\u001b[0m\u001b[1;33m\u001b[0m\u001b[0m\n\u001b[0;32m     64\u001b[0m     \u001b[1;32mif\u001b[0m \u001b[0mmjv\u001b[0m \u001b[1;33m==\u001b[0m \u001b[1;36m0\u001b[0m\u001b[1;33m:\u001b[0m\u001b[1;33m\u001b[0m\u001b[1;33m\u001b[0m\u001b[0m\n",
      "\u001b[1;32m~\\Anaconda3\\lib\\site-packages\\scipy\\io\\matlab\\mio.py\u001b[0m in \u001b[0;36m_open_file\u001b[1;34m(file_like, appendmat)\u001b[0m\n\u001b[0;32m     35\u001b[0m             \u001b[1;32mif\u001b[0m \u001b[0mappendmat\u001b[0m \u001b[1;32mand\u001b[0m \u001b[1;32mnot\u001b[0m \u001b[0mfile_like\u001b[0m\u001b[1;33m.\u001b[0m\u001b[0mendswith\u001b[0m\u001b[1;33m(\u001b[0m\u001b[1;34m'.mat'\u001b[0m\u001b[1;33m)\u001b[0m\u001b[1;33m:\u001b[0m\u001b[1;33m\u001b[0m\u001b[1;33m\u001b[0m\u001b[0m\n\u001b[0;32m     36\u001b[0m                 \u001b[0mfile_like\u001b[0m \u001b[1;33m+=\u001b[0m \u001b[1;34m'.mat'\u001b[0m\u001b[1;33m\u001b[0m\u001b[1;33m\u001b[0m\u001b[0m\n\u001b[1;32m---> 37\u001b[1;33m             \u001b[1;32mreturn\u001b[0m \u001b[0mopen\u001b[0m\u001b[1;33m(\u001b[0m\u001b[0mfile_like\u001b[0m\u001b[1;33m,\u001b[0m \u001b[1;34m'rb'\u001b[0m\u001b[1;33m)\u001b[0m\u001b[1;33m,\u001b[0m \u001b[1;32mTrue\u001b[0m\u001b[1;33m\u001b[0m\u001b[1;33m\u001b[0m\u001b[0m\n\u001b[0m\u001b[0;32m     38\u001b[0m         \u001b[1;32melse\u001b[0m\u001b[1;33m:\u001b[0m\u001b[1;33m\u001b[0m\u001b[1;33m\u001b[0m\u001b[0m\n\u001b[0;32m     39\u001b[0m             \u001b[1;32mraise\u001b[0m \u001b[0mIOError\u001b[0m\u001b[1;33m(\u001b[0m\u001b[1;34m'Reader needs file name or open file-like object'\u001b[0m\u001b[1;33m)\u001b[0m\u001b[1;33m\u001b[0m\u001b[1;33m\u001b[0m\u001b[0m\n",
      "\u001b[1;31mFileNotFoundError\u001b[0m: [Errno 2] No such file or directory: 'Botswana_gt.mat'"
     ]
    }
   ],
   "source": [
    "import numpy as np\n",
    "import pandas as pd\n",
    "import scipy.io as sio\n",
    "import sklearn\n",
    "from sklearn import metrics, preprocessing\n",
    "import math\n",
    "from sklearn.neighbors import KNeighborsClassifier\n",
    "\n",
    "data = sio.loadmat('Botswana.mat')['Botswana']\n",
    "labels = sio.loadmat('Botswana_gt.mat')['Botswana_gt']\n",
    "print(data.shape) #145, 145, 200\n",
    "#print(labels.shape) #145, 145\n",
    "#print(data[0][0])\n",
    "print(len(labels[0]))\n",
    "\n",
    "def extract_pixels(X, y):\n",
    "  q = X.reshape(-1, X.shape[2])\n",
    "  df = pd.DataFrame(data = q)\n",
    "  df = pd.concat([df, pd.DataFrame(data = y.ravel())], axis=1)\n",
    "  df.columns= [f'band{i}' for i in range(1, 1+X.shape[2])]+['class']\n",
    "  df.to_csv('Dataset.csv')\n",
    "  #print(X.shape)\n",
    "  return df \n",
    "df = extract_pixels(data, labels)\n",
    "df1 = np.transpose(df)\n",
    "X1 = df.to_numpy()\n",
    "X2 = np.transpose(X1)\n",
    "#print(df)\n",
    "#print(X1)\n",
    "updatedX1 = []\n",
    "for i in range(len(X1)):\n",
    "    if(X1[i][145] != 0):\n",
    "        updatedX1.append(X1[i])\n",
    "print(len(updatedX1))\n",
    "updatedX2 = np.transpose(updatedX1)\n",
    "updatedX1=np.transpose(updatedX2)\n",
    "X11 = updatedX1\n",
    "X22 = updatedX2\n",
    "print(len(X1))\n"
   ]
  },
  {
   "cell_type": "code",
   "execution_count": 14,
   "metadata": {},
   "outputs": [
    {
     "name": "stdout",
     "output_type": "stream",
     "text": [
      "[[6181 6152 6087 ... 4026 3911 3948]\n",
      " [6266 6353 6192 ... 3937 3892 4010]\n",
      " [6142 6067 6049 ... 3486 3599 3633]\n",
      " ...\n",
      " [ 201  210  202 ...   35   32   44]\n",
      " [ 187  217  199 ...   41   42   38]\n",
      " [  14   14   14 ...    6    6    6]]\n"
     ]
    }
   ],
   "source": [
    "#df1.transpose().to_numpy().shape\n",
    "band=X11\n",
    "bandr=X22\n",
    "bands=[]\n",
    "bandnum = 15\n",
    "print(bandr)"
   ]
  },
  {
   "cell_type": "code",
   "execution_count": 15,
   "metadata": {},
   "outputs": [
    {
     "data": {
      "text/plain": [
       "SVC(C=50, cache_size=10240, class_weight=None, coef0=0.0,\n",
       "    decision_function_shape='ovr', degree=3, gamma='auto', kernel='rbf',\n",
       "    max_iter=-1, probability=False, random_state=None, shrinking=True,\n",
       "    tol=0.001, verbose=False)"
      ]
     },
     "execution_count": 15,
     "metadata": {},
     "output_type": "execute_result"
    }
   ],
   "source": [
    "#KNN\n",
    "from sklearn.svm import SVC\n",
    "y=[]\n",
    "y=bandr[145]\n",
    "X_data=np.transpose(bandr)\n",
    "svm =  SVC(C = 50, kernel = 'rbf', gamma = 'auto', cache_size = 10*1024)\n",
    "svm.fit(X_data,y)\n",
    "\n"
   ]
  },
  {
   "cell_type": "code",
   "execution_count": 16,
   "metadata": {},
   "outputs": [
    {
     "name": "stdout",
     "output_type": "stream",
     "text": [
      "[[6181 6266 6142 ...  201  187   14]\n",
      " [6152 6353 6067 ...  210  217   14]\n",
      " [6087 6192 6049 ...  202  199   14]\n",
      " ...\n",
      " [7199 7114 6991 ...  218  219   14]\n",
      " [7410 7447 7495 ...  266  262   14]\n",
      " [8902 9300 9350 ...  293  301   14]]\n",
      "32\n",
      "325\n",
      "325\n"
     ]
    }
   ],
   "source": [
    "#Competence and knn\n",
    "kk=7\n",
    "train,competence,test=np.split(X_data,[int(.01*len(X_data)),int(0.11*len(X_data))])\n",
    "print(train)\n",
    "train_y=np.transpose(train)\n",
    "train_y=train_y[len(train_y)-1]\n",
    "competence_y=np.transpose(competence)\n",
    "competence_y=competence_y[len(competence_y)-1]\n",
    "test_y=np.transpose(test)\n",
    "test_y=test_y[len(test_y)-1]\n",
    "train=np.transpose(train)\n",
    "train=np.transpose(train[0:(len(train)-1)])\n",
    "print(len(train_y))\n",
    "competence=np.transpose(competence)\n",
    "competence=np.transpose(competence[0:(len(competence)-1)])\n",
    "test=np.transpose(test)\n",
    "\n",
    "test=np.transpose(test[0:(len(test)-1)])\n",
    "print(len(competence_y))\n",
    "print(len(competence))\n",
    "                  \n",
    "                  \n",
    "def competences(train,competence):\n",
    "    regioncomp=[]\n",
    "    m=[]\n",
    "    for i in range(0,len(competence)):\n",
    "        m.append(np.linalg.norm(train-competence[i]))\n",
    "    bandind=[0]*(len(competence)+1)\n",
    "    for i in range(0,len(competence)):\n",
    "        bandind[i]=i\n",
    "    \n",
    "    for i in range(0,len(competence)):\n",
    "        for j in range(0,len(competence)-i-1):\n",
    "            if(m[j]>m[j+1]):\n",
    "                temp=m[j]\n",
    "                m[j]=m[j+1]\n",
    "                m[j+1]=temp\n",
    "                temp=bandind[j]\n",
    "                bandind[j]=bandind[j+1]\n",
    "                bandind[j+1]=temp\n",
    "                temp=competence_y[j]\n",
    "                competence_y[j]=competence_y[j+1]\n",
    "                competence_y[j+1]=temp\n",
    "                \n",
    "                \n",
    "    for i in range(0,kk):\n",
    "        regioncomp.append(competence[bandind[i]])\n",
    "    return regioncomp,competence_y"
   ]
  },
  {
   "cell_type": "code",
   "execution_count": 17,
   "metadata": {},
   "outputs": [],
   "source": [
    "from sklearn import metrics, preprocessing\n",
    "from sklearn.metrics import accuracy_score\n",
    "from sklearn.ensemble import RandomForestClassifier\n",
    "from sklearn.datasets import make_classification"
   ]
  },
  {
   "cell_type": "code",
   "execution_count": 18,
   "metadata": {},
   "outputs": [
    {
     "name": "stdout",
     "output_type": "stream",
     "text": [
      "[]\n",
      "[48]\n",
      "[48, 60]\n",
      "[48, 60, 80]\n",
      "[48, 60, 80, 72]\n",
      "[48, 60, 80, 72, 57]\n",
      "[48, 60, 80, 72, 57, 68]\n",
      "[48, 60, 80, 72, 57, 68, 107]\n",
      "[48, 60, 80, 72, 57, 68, 107, 120]\n",
      "[48, 60, 80, 72, 57, 68, 107, 120, 87]\n",
      "[48, 60, 80, 72, 57, 68, 107, 120, 87, 131]\n",
      "[48, 60, 80, 72, 57, 68, 107, 120, 87, 131, 122]\n",
      "[48, 60, 80, 72, 57, 68, 107, 120, 87, 131, 122, 111]\n",
      "[48, 60, 80, 72, 57, 68, 107, 120, 87, 131, 122, 111, 103]\n",
      "[48, 60, 80, 72, 57, 68, 107, 120, 87, 131, 122, 111, 103, 116]\n",
      "[48, 60, 80, 72, 57, 68, 107, 120, 87, 131, 122, 111, 103, 116, 12]\n"
     ]
    }
   ],
   "source": [
    "#Here X=X2.transpose\n",
    "comb=[]\n",
    "bands=[]\n",
    "bandNumber = []\n",
    "kk=7\n",
    "y=bandr[145]\n",
    "t = list(range(1, 146))\n",
    "for i in range(0,bandnum):\n",
    "    classifier1 = 0\n",
    "    classifier2 = 0\n",
    "    maxAcc1 = -1\n",
    "    maxAcc2 = -1\n",
    "    maxBand1 = -1\n",
    "    maxBand2 = -1\n",
    "    tempRegion = []\n",
    "    print(bandNumber)\n",
    "    for j in range(0,len(bandr)-1):\n",
    "        comb=[]\n",
    "        #comb=bands\n",
    "        for z in bands:\n",
    "            comb.append(z)\n",
    "        comb.append(bandr[j])\n",
    "        X=np.transpose(comb)\n",
    "        \n",
    "        #svm =  SVC(C = 50, kernel = 'rbf', gamma = 'auto', cache_size = 10*1024)\n",
    "        #svm.fit(X,y)\n",
    "        \n",
    "        clf = RandomForestClassifier(n_estimators = 10, max_depth=2, random_state=0)\n",
    "        clf.fit(X, y)\n",
    "        \n",
    "        classifier = KNeighborsClassifier(n_neighbors=kk)\n",
    "        classifier.fit(X, y)\n",
    "        #print(\"Trained\", i, j)\n",
    "        \n",
    "        samnum=len(train)\n",
    "        for k in range(0,samnum):\n",
    "            #print(bandNumber)\n",
    "            region,y_test=competences(train[k],competence)\n",
    "            #print(region)\n",
    "            regionDash = np.transpose(region)\n",
    "            for l in range(len(bandNumber)):\n",
    "                tempRegion.append(regionDash[bandNumber[l]-1])\n",
    "            tempRegion.append(regionDash[j])\n",
    "            region = tempRegion\n",
    "            \n",
    "            #y_pred1 = svm.predict(np.transpose(region))\n",
    "            y_pred1 = clf.predict(np.transpose(region))\n",
    "            y_pred2 = classifier.predict(np.transpose(region))\n",
    "            \n",
    "            accuracy1 = accuracy_score(y_test[:len(y_pred1)], y_pred1)\n",
    "            accuracy2 = accuracy_score(y_test[:len(y_pred1)], y_pred2)\n",
    "\n",
    "            if(accuracy1 > accuracy2):\n",
    "                classifier1 += 1\n",
    "                if(accuracy1 >= maxAcc1):\n",
    "                    maxAcc1 = accuracy1\n",
    "                    #maxBand1 = j+1\n",
    "                    maxBand1 = t[j]\n",
    "            else:\n",
    "                classifier2 += 1\n",
    "                if(accuracy2 >= maxAcc2):\n",
    "                    maxAcc2 = accuracy2\n",
    "                    #maxBand2 = j+1\n",
    "                    maxBand2 = t[j]\n",
    "                    \n",
    "            region = []\n",
    "            regionDash = []\n",
    "            tempRegion = []\n",
    "                \n",
    "    if(classifier1 > classifier2):\n",
    "        bandNumber.append(maxBand1)\n",
    "        #bandr.remove(bandr[maxBand1 - 1])\n",
    "        bandr = np.delete(bandr, maxBand1 - 1, axis = 0)\n",
    "        bands.append(bandr[maxBand1 - 1])\n",
    "        t.remove(maxBand1)\n",
    "        #t.remove(t[maxBand1])\n",
    "        #numpy.append(bands,bandr[maxBand1 - 1],axis = 0)\n",
    "    else:\n",
    "        bandNumber.append(maxBand2)\n",
    "        #bandr.remove(bandr[maxBand2 - 1])\n",
    "        bandr = np.delete(bandr, maxBand2 - 1, axis = 0)\n",
    "        bands.append(bandr[maxBand2 - 1])\n",
    "        t.remove(maxBand2)\n",
    "        #t.remove(t[maxBand2])\n",
    "        #numpy.append(bands,bandr[maxBand2 - 1],axis = 0)\n",
    "\n",
    "print(bandNumber)"
   ]
  },
  {
   "cell_type": "code",
   "execution_count": null,
   "metadata": {},
   "outputs": [],
   "source": [
    "print(len(bandr))\n",
    "print(len(bands))\n",
    "print(bandNumber)\n",
    "#14:22"
   ]
  },
  {
   "cell_type": "code",
   "execution_count": 20,
   "metadata": {},
   "outputs": [
    {
     "name": "stdout",
     "output_type": "stream",
     "text": [
      "              precision    recall  f1-score   support\n",
      "\n",
      "           1       1.00      1.00      1.00        60\n",
      "           2       0.96      1.00      0.98        25\n",
      "           3       0.86      0.98      0.91        49\n",
      "           4       0.64      0.83      0.72        36\n",
      "           5       0.81      0.80      0.80        64\n",
      "           6       0.65      0.55      0.59        55\n",
      "           7       1.00      1.00      1.00        51\n",
      "           8       0.71      0.94      0.81        36\n",
      "           9       0.78      0.71      0.74        59\n",
      "          10       0.75      0.72      0.74        58\n",
      "          11       0.94      0.91      0.93        56\n",
      "          12       0.41      0.52      0.45        29\n",
      "          13       0.60      0.47      0.53        55\n",
      "          14       0.67      0.35      0.46        17\n",
      "\n",
      "    accuracy                           0.79       650\n",
      "   macro avg       0.77      0.77      0.76       650\n",
      "weighted avg       0.79      0.79      0.78       650\n",
      "\n",
      "0.7861538461538462\n"
     ]
    },
    {
     "name": "stderr",
     "output_type": "stream",
     "text": [
      "C:\\Users\\AAYUSH AGARWAL\\Anaconda3\\lib\\site-packages\\ipykernel_launcher.py:25: DataConversionWarning: A column-vector y was passed when a 1d array was expected. Please change the shape of y to (n_samples, ), for example using ravel().\n"
     ]
    }
   ],
   "source": [
    "bands = bandNumber\n",
    "#bands = [1, 2, 3, 4, 5, 6, 7, 8, 9]\n",
    "xCheck = []\n",
    "for i in bands:\n",
    "    xCheck.append(X22[i-1])\n",
    "xCheck.append(X22[145])\n",
    "xDash = np.transpose(xCheck)\n",
    "#print(len(xCheck[0]))\n",
    "#print(xDash)\n",
    "xx = []\n",
    "for i in range(len(xDash)):\n",
    "    if(xDash[i][9] != 0):\n",
    "        xx.append(xDash[i])\n",
    "#print(x)\n",
    "X = np.array(xx)[:,:15]\n",
    "y = np.array(xx)[:,15:]\n",
    "from sklearn.model_selection import train_test_split\n",
    "from sklearn.svm import SVC\n",
    "from sklearn.metrics import accuracy_score, classification_report, confusion_matrix\n",
    "X_train, X_test, y_train, y_test = train_test_split(X, y, test_size=0.20)\n",
    "names = [1, 2, 3, 4, 5, 6, 7, 8, 9, 10, 11, 12, 13, 14]\n",
    "from sklearn.neighbors import KNeighborsClassifier\n",
    "k = 9\n",
    "classifier = KNeighborsClassifier(n_neighbors=k)\n",
    "classifier.fit(X_train, y_train)\n",
    "y_pred = classifier.predict(X_test)\n",
    "#print(y_pred)\n",
    "result = metrics.confusion_matrix(y_test, y_pred)\n",
    "#print(result)\n",
    "print(classification_report(y_test, y_pred))\n",
    "print(accuracy_score(y_test, y_pred))"
   ]
  },
  {
   "cell_type": "code",
   "execution_count": null,
   "metadata": {},
   "outputs": [],
   "source": []
  }
 ],
 "metadata": {
  "kernelspec": {
   "display_name": "Python 3",
   "language": "python",
   "name": "python3"
  },
  "language_info": {
   "codemirror_mode": {
    "name": "ipython",
    "version": 3
   },
   "file_extension": ".py",
   "mimetype": "text/x-python",
   "name": "python",
   "nbconvert_exporter": "python",
   "pygments_lexer": "ipython3",
   "version": "3.7.3"
  }
 },
 "nbformat": 4,
 "nbformat_minor": 2
}
